{
 "cells": [
  {
   "cell_type": "markdown",
   "metadata": {},
   "source": [
    "# IBM Quantum Challenge 2020"
   ]
  },
  {
   "cell_type": "code",
   "execution_count": 24,
   "metadata": {},
   "outputs": [],
   "source": [
    "import qiskit\n",
    "from qiskit import IBMQ\n",
    "\n",
    "with open('token.txt', 'r') as f:\n",
    "    IBMQ.save_account(f.read())"
   ]
  },
  {
   "cell_type": "markdown",
   "metadata": {},
   "source": [
    "## Example Usage: Grover's Algorithm"
   ]
  },
  {
   "cell_type": "code",
   "execution_count": 176,
   "metadata": {},
   "outputs": [],
   "source": [
    "from qiskit import QuantumCircuit, QuantumRegister, ClassicalRegister\n",
    "\n",
    "def U0(circuit):\n",
    "    \"\"\"State preparation\"\"\"\n",
    "    data, aux1, aux2 = circuit.qregs\n",
    "    circuit.x(aux2)\n",
    "    circuit.h((*data, *aux2))\n",
    "    circuit.barrier((*data, *aux1, *aux2))\n",
    "\n",
    "def Uf(circuit):\n",
    "    \"\"\"3 Qubit Oracle operator\"\"\"\n",
    "    data, aux1, aux2 = circuit.qregs\n",
    "    circuit.ccx(data[0], data[1], aux1)\n",
    "    circuit.ccx(aux1, data[2], aux2)\n",
    "    circuit.ccx(data[0], data[1], aux1)\n",
    "    circuit.barrier((*data, *aux1, *aux2))\n",
    "    \n",
    "def Ud(circuit):\n",
    "    \"\"\"Grover's diffusion operator\"\"\"\n",
    "    data, aux1, aux2 = circuit.qregs\n",
    "    circuit.h(data)\n",
    "    circuit.x(data)\n",
    "    circuit.h(data[-1])\n",
    "    circuit.ccx(*data)\n",
    "    circuit.h(data[-1])\n",
    "    circuit.x(data)\n",
    "    circuit.h(data)\n",
    "    circuit.barrier((*data, *aux1, *aux2))\n",
    "\n",
    "def M(circuit):\n",
    "    \"\"\"Measurement\"\"\"\n",
    "    data, *_ = circuit.qregs\n",
    "    output, *_ = circuit.cregs\n",
    "    circuit.measure(data, output)"
   ]
  },
  {
   "cell_type": "code",
   "execution_count": 181,
   "metadata": {},
   "outputs": [],
   "source": [
    "# Initialize components\n",
    "qc = QuantumCircuit()\n",
    "qr1 = QuantumRegister(3, 'data')\n",
    "qr2 = QuantumRegister(1, 'aux1')\n",
    "qr3 = QuantumRegister(1, 'aux2')\n",
    "cr = ClassicalRegister(3, 'output')"
   ]
  },
  {
   "cell_type": "code",
   "execution_count": 182,
   "metadata": {},
   "outputs": [],
   "source": [
    "# Register components on circuit\n",
    "qc.add_register(qr1)\n",
    "qc.add_register(qr2)\n",
    "qc.add_register(qr3)\n",
    "qc.add_register(cr)"
   ]
  },
  {
   "cell_type": "code",
   "execution_count": 183,
   "metadata": {},
   "outputs": [
    {
     "data": {
      "text/html": [
       "<pre style=\"word-wrap: normal;white-space: pre;background: #fff0;line-height: 1.1;font-family: &quot;Courier New&quot;,Courier,monospace\">          ┌───┐      ░                 ░ ┌───┐┌───┐          ┌───┐┌───┐      ░ »\n",
       "  data_0: ┤ H ├──────░───■─────────■───░─┤ H ├┤ X ├───────■──┤ X ├┤ H ├──────░─»\n",
       "          ├───┤      ░   │         │   ░ ├───┤├───┤       │  ├───┤├───┤      ░ »\n",
       "  data_1: ┤ H ├──────░───■─────────■───░─┤ H ├┤ X ├───────■──┤ X ├┤ H ├──────░─»\n",
       "          ├───┤      ░   │         │   ░ ├───┤├───┤┌───┐┌─┴─┐├───┤├───┤┌───┐ ░ »\n",
       "  data_2: ┤ H ├──────░───┼────■────┼───░─┤ H ├┤ X ├┤ H ├┤ X ├┤ H ├┤ X ├┤ H ├─░─»\n",
       "          └───┘      ░ ┌─┴─┐  │  ┌─┴─┐ ░ └───┘└───┘└───┘└───┘└───┘└───┘└───┘ ░ »\n",
       "  aux1_0: ───────────░─┤ X ├──■──┤ X ├─░─────────────────────────────────────░─»\n",
       "          ┌───┐┌───┐ ░ └───┘┌─┴─┐└───┘ ░                                     ░ »\n",
       "  aux2_0: ┤ X ├┤ H ├─░──────┤ X ├──────░─────────────────────────────────────░─»\n",
       "          └───┘└───┘ ░      └───┘      ░                                     ░ »\n",
       "output_0: ═════════════════════════════════════════════════════════════════════»\n",
       "                                                                               »\n",
       "output_1: ═════════════════════════════════════════════════════════════════════»\n",
       "                                                                               »\n",
       "output_2: ═════════════════════════════════════════════════════════════════════»\n",
       "                                                                               »\n",
       "«                          ░ ┌───┐┌───┐          ┌───┐┌───┐      ░ ┌─┐      \n",
       "«  data_0: ──■─────────■───░─┤ H ├┤ X ├───────■──┤ X ├┤ H ├──────░─┤M├──────\n",
       "«            │         │   ░ ├───┤├───┤       │  ├───┤├───┤      ░ └╥┘┌─┐   \n",
       "«  data_1: ──■─────────■───░─┤ H ├┤ X ├───────■──┤ X ├┤ H ├──────░──╫─┤M├───\n",
       "«            │         │   ░ ├───┤├───┤┌───┐┌─┴─┐├───┤├───┤┌───┐ ░  ║ └╥┘┌─┐\n",
       "«  data_2: ──┼────■────┼───░─┤ H ├┤ X ├┤ H ├┤ X ├┤ H ├┤ X ├┤ H ├─░──╫──╫─┤M├\n",
       "«          ┌─┴─┐  │  ┌─┴─┐ ░ └───┘└───┘└───┘└───┘└───┘└───┘└───┘ ░  ║  ║ └╥┘\n",
       "«  aux1_0: ┤ X ├──■──┤ X ├─░─────────────────────────────────────░──╫──╫──╫─\n",
       "«          └───┘┌─┴─┐└───┘ ░                                     ░  ║  ║  ║ \n",
       "«  aux2_0: ─────┤ X ├──────░─────────────────────────────────────░──╫──╫──╫─\n",
       "«               └───┘      ░                                     ░  ║  ║  ║ \n",
       "«output_0: ═════════════════════════════════════════════════════════╩══╬══╬═\n",
       "«                                                                      ║  ║ \n",
       "«output_1: ════════════════════════════════════════════════════════════╩══╬═\n",
       "«                                                                         ║ \n",
       "«output_2: ═══════════════════════════════════════════════════════════════╩═\n",
       "«                                                                           </pre>"
      ],
      "text/plain": [
       "          ┌───┐      ░                 ░ ┌───┐┌───┐          ┌───┐┌───┐      ░ »\n",
       "  data_0: ┤ H ├──────░───■─────────■───░─┤ H ├┤ X ├───────■──┤ X ├┤ H ├──────░─»\n",
       "          ├───┤      ░   │         │   ░ ├───┤├───┤       │  ├───┤├───┤      ░ »\n",
       "  data_1: ┤ H ├──────░───■─────────■───░─┤ H ├┤ X ├───────■──┤ X ├┤ H ├──────░─»\n",
       "          ├───┤      ░   │         │   ░ ├───┤├───┤┌───┐┌─┴─┐├───┤├───┤┌───┐ ░ »\n",
       "  data_2: ┤ H ├──────░───┼────■────┼───░─┤ H ├┤ X ├┤ H ├┤ X ├┤ H ├┤ X ├┤ H ├─░─»\n",
       "          └───┘      ░ ┌─┴─┐  │  ┌─┴─┐ ░ └───┘└───┘└───┘└───┘└───┘└───┘└───┘ ░ »\n",
       "  aux1_0: ───────────░─┤ X ├──■──┤ X ├─░─────────────────────────────────────░─»\n",
       "          ┌───┐┌───┐ ░ └───┘┌─┴─┐└───┘ ░                                     ░ »\n",
       "  aux2_0: ┤ X ├┤ H ├─░──────┤ X ├──────░─────────────────────────────────────░─»\n",
       "          └───┘└───┘ ░      └───┘      ░                                     ░ »\n",
       "output_0: ═════════════════════════════════════════════════════════════════════»\n",
       "                                                                               »\n",
       "output_1: ═════════════════════════════════════════════════════════════════════»\n",
       "                                                                               »\n",
       "output_2: ═════════════════════════════════════════════════════════════════════»\n",
       "                                                                               »\n",
       "«                          ░ ┌───┐┌───┐          ┌───┐┌───┐      ░ ┌─┐      \n",
       "«  data_0: ──■─────────■───░─┤ H ├┤ X ├───────■──┤ X ├┤ H ├──────░─┤M├──────\n",
       "«            │         │   ░ ├───┤├───┤       │  ├───┤├───┤      ░ └╥┘┌─┐   \n",
       "«  data_1: ──■─────────■───░─┤ H ├┤ X ├───────■──┤ X ├┤ H ├──────░──╫─┤M├───\n",
       "«            │         │   ░ ├───┤├───┤┌───┐┌─┴─┐├───┤├───┤┌───┐ ░  ║ └╥┘┌─┐\n",
       "«  data_2: ──┼────■────┼───░─┤ H ├┤ X ├┤ H ├┤ X ├┤ H ├┤ X ├┤ H ├─░──╫──╫─┤M├\n",
       "«          ┌─┴─┐  │  ┌─┴─┐ ░ └───┘└───┘└───┘└───┘└───┘└───┘└───┘ ░  ║  ║ └╥┘\n",
       "«  aux1_0: ┤ X ├──■──┤ X ├─░─────────────────────────────────────░──╫──╫──╫─\n",
       "«          └───┘┌─┴─┐└───┘ ░                                     ░  ║  ║  ║ \n",
       "«  aux2_0: ─────┤ X ├──────░─────────────────────────────────────░──╫──╫──╫─\n",
       "«               └───┘      ░                                     ░  ║  ║  ║ \n",
       "«output_0: ═════════════════════════════════════════════════════════╩══╬══╬═\n",
       "«                                                                      ║  ║ \n",
       "«output_1: ════════════════════════════════════════════════════════════╩══╬═\n",
       "«                                                                         ║ \n",
       "«output_2: ═══════════════════════════════════════════════════════════════╩═\n",
       "«                                                                           "
      ]
     },
     "execution_count": 183,
     "metadata": {},
     "output_type": "execute_result"
    }
   ],
   "source": [
    "# Phase preparation\n",
    "U0(qc)\n",
    "\n",
    "# Grover Operator iteration 1\n",
    "Uf(qc)\n",
    "Ud(qc)\n",
    "\n",
    "# Grover Operator iteration 2\n",
    "Uf(qc)\n",
    "Ud(qc)\n",
    "\n",
    "# Measurement\n",
    "M(qc)\n",
    "\n",
    "# Check circuit\n",
    "qc.draw()"
   ]
  },
  {
   "cell_type": "code",
   "execution_count": 185,
   "metadata": {},
   "outputs": [],
   "source": [
    "# Simulation\n",
    "from qiskit import Aer\n",
    "\n",
    "simulator = Aer.get_backend('qasm_simulator')\n",
    "job = execute(qc, simulator, shots = 1024)\n",
    "result = job.result()"
   ]
  },
  {
   "cell_type": "code",
   "execution_count": 186,
   "metadata": {},
   "outputs": [
    {
     "data": {
      "image/png": "[encoded data removed]",
      "text/plain": [
       "<Figure size 504x360 with 1 Axes>"
      ]
     },
     "execution_count": 186,
     "metadata": {},
     "output_type": "execute_result"
    }
   ],
   "source": [
    "# Results\n",
    "from qiskit.visualization import plot_histogram\n",
    "\n",
    "counts = result.get_counts(qc)\n",
    "plot_histogram(counts)"
   ]
  }
 ],
 "metadata": {
  "kernelspec": {
   "display_name": "Python 3",
   "language": "python",
   "name": "python3"
  },
  "language_info": {
   "codemirror_mode": {
    "name": "ipython",
    "version": 3
   },
   "file_extension": ".py",
   "mimetype": "text/x-python",
   "name": "python",
   "nbconvert_exporter": "python",
   "pygments_lexer": "ipython3",
   "version": "3.7.4"
  }
 },
 "nbformat": 4,
 "nbformat_minor": 2
}
